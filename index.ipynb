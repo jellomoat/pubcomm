{
 "cells": [
  {
   "cell_type": "markdown",
   "id": "21d62c85-b8f5-44b8-ac57-ca054e7abbdd",
   "metadata": {},
   "source": [
    "---\n",
    "title: pubcomm\n",
    "author: S. Andrews\n",
    "toc: true\n",
    "toc-title: about this project\n",
    "---"
   ]
  },
  {
   "cell_type": "markdown",
   "id": "0145d2ea-eaf8-4c4e-86f8-6b2dd4c84e33",
   "metadata": {},
   "source": [
    "# Description and Process Summary\n"
   ]
  },
  {
   "cell_type": "markdown",
   "id": "9c6bb6a2-18b1-4742-9310-887584b3fd46",
   "metadata": {},
   "source": [
    "This project uses AI to summarize and code letters to city council from the public to provide an aggregated view of public sentiment on local issues."
   ]
  },
  {
   "cell_type": "markdown",
   "id": "8f1c961b-cbda-467d-b8e0-57eee10546ec",
   "metadata": {},
   "source": [
    "This project was designed to make it easier for journalists to understand public sentiment as expressed in letters written to a city government. As local issues can garner tens or hundreds of letters, and local journalism is seldom well-resourced, automation could be key in delivering timely and accurate reporting to the public."
   ]
  },
  {
   "cell_type": "markdown",
   "id": "7f608ab5-8b4a-4f8c-a03d-b843aea65e22",
   "metadata": {},
   "source": [
    "<!-- This project takes a raw corpus of scanned emails and letters (PDF), extracts the text from it to create a parseable dataset, generates a pithy summary for each letter, and distills a label for whether the letter seemed to express support for or opposition to a policy recommendation put forth by the city council as specified in the meeting agenda.\n",
    " -->\n",
    "In this project, PDF letters and emails are (1) turned into text, (2) summarized with AI, and (3) coded for whether they express support or opposition to an issue, also with AI.\n",
    "\n",
    "<img src=\"./doc_images/cap_process.png\" alt=\"process summary\" width=\"100%\"></img>"
   ]
  },
  {
   "cell_type": "markdown",
   "id": "be793228-205d-4bab-95ed-8d75e084d612",
   "metadata": {},
   "source": [
    "# Context"
   ]
  },
  {
   "cell_type": "markdown",
   "id": "89740411-16f2-4235-b47b-4d8c530d4a5f",
   "metadata": {},
   "source": [
    "## About City Council Meetings and Public Comment"
   ]
  },
  {
   "cell_type": "markdown",
   "id": "a736767d-4374-4374-872d-3daeff14e850",
   "metadata": {},
   "source": [
    "The Berkeley City Council meets at least twice a month.  These meetings are typically five hours long.\n",
    "\n",
    "The City Council invites members of the public to comment for up to 2 minutes at the beginning of a meeting, at the end of a meeting, and after agenda action items are called.  There are many community members who show up to express their position on council agenda items, some staying nearly the entire five hours before providing public comment.\n",
    "\n",
    "<img src=\"./doc_images/cap_recent_meeting.png\" width=\"35%\" style=\"margin: 2%\" alt=\"screencap from recent meeting showing 2 min timer\" border=\"1px\"></img>\n",
    "\n",
    "<!-- Their participation is typically noted collectively and succinctly as: \"Action/Public Comment/Public Testimony: < # > speakers.\"\n",
    "\n",
    "For example, community members provided public comment 87 times at the meeting held on July 7th, 2023.\n",
    "\n",
    "The content of the first 58 were documented as:\n",
    "* \"Public Comment on Non-Agenda Matters: 9 speakers.\"\n",
    "* \"Public Comment on Consent Calendar and Information Items Only: 49 speakers.\"\n",
    "\n",
    "<img src=\"./cap_annotatedagenda_pubcomm_example.png\" width=\"35%\" style=\"margin: 2%\" alt=\"screencap of annotated agenda\" border=\"1px\"></img> -->"
   ]
  },
  {
   "cell_type": "markdown",
   "id": "3fdd0722-6a13-426e-8a17-7f312fda4f35",
   "metadata": {},
   "source": [
    "<!-- Some people stay the entire meeting waiting to comment on an issue only for that agenda item to be bumped to the following meeting.  There are also community members who attend hoping to speak but need to leave before their item is called.  They are often youth and parents of young children who are unable to stay all five hours on a school night.\n",
    "\n",
    "At a recent meeting held on July 7th, 2023, community members provided live public comment 87 times.  There were both agenda items bumped and community members who left before having a chance to provide public comment.\n",
    " -->\n",
    "There are also many who would be civically engaged but are unable to attend or who can only attend for part of the meeting.  These meetings are held on Tuesday evenings -- school nights -- making it all the more challenging for youth and parents of young children to participate.\n",
    "\n",
    "For example, at a recent July meeting community members provided live public comment 87 times.  At the end of the meeting a councilmember stated that there were youth in attendance who she knew wanted to speak on an issue but needed to leave before their agenda item was called."
   ]
  },
  {
   "cell_type": "markdown",
   "id": "2422602f-c5a5-445a-807a-1d4001e843fc",
   "metadata": {},
   "source": [
    "## About Written Communications\n",
    "\n",
    "The City Council acknowledges that the length and format of public meetings present barriers to civic engagement.  It even periodically convenes meetings to discuss specifically how to mitigate those barriers.\n",
    "\n",
    "One alternative to live attendance: public comment in writing, emailed in advance to the city clerk for the council's consideration and inclusion in the public record.\n",
    "\n",
    "<img src=\"./doc_images/cap_commentinwriting.png\" width=\"65%\" style=\"margin: 2%\" alt=\"screencap of comment in writing section of berkeley's 'participating in city council meetings' page\" border=\"1px\"></img>\n",
    "\n",
    "At this same mid-July meeting, 196 people emailed to share their support for or opposition to upcoming agenda items.  These emails cumulatively span 336 pages of PDF.\n",
    "\n",
    "<img src=\"./doc_images/inspo_pt3.png\" width=\"65%\" style=\"margin: 2%\" alt=\"\" border=\"1px\"></img>\n",
    "\n",
    "The content of these written communications is presented en masse in the agenda as an enumerated list of people and item numbers.  There is no additional context beyond a note indicating that the raw emails are available in the city's Public Records Online database.\n",
    "\n",
    "<img src=\"./doc_images/cap_agendacomments.png\" width=\"65%\" style=\"margin: 2%\" alt=\"screencap of agenda comments\"></img>\n",
    "\n",
    "In a city where there is significant civic engagement, how can council members and the public at large actually synthesize such a massive quantity of qualitative data?"
   ]
  },
  {
   "cell_type": "markdown",
   "id": "5fe5f9e9-8028-4443-8598-df3e1aeddb36",
   "metadata": {},
   "source": [
    "# Data Collection"
   ]
  },
  {
   "cell_type": "markdown",
   "id": "077cd011-c46f-4475-99c4-a70719fd9a9a",
   "metadata": {},
   "source": [
    "Data for this project was collected from Berkeley's <a href=\"#agendas\">City Council Agendas</a> and Berkeley's <a href=\"#publicrecords\">Public Records Online Database</a>, more detail below."
   ]
  },
  {
   "cell_type": "markdown",
   "id": "95763f29-352f-4941-b591-dd6fb92937a0",
   "metadata": {
    "jp-MarkdownHeadingCollapsed": true
   },
   "source": [
    "## <span id=\"agendas\">Meeting Agendas</span>\n",
    "Data Source: Berkeley <a href=\"https://berkeleyca.gov/your-government/city-council/city-council-agendas\">City Council Agendas</a> page\n",
    "\n",
    "Agendas are posted online to <a href=\"https://berkeleyca.gov/your-government/city-council/city-council-agendas\">this page</a> before each meeting, then again with annotations and audiovisual recordings following the meeting.\n",
    "\n",
    "<img src=\"./doc_images/cap_cobagendas.png\" width=\"35%\" style=\"margin: 2%\" alt=\"screencap of agendas page\" border=\"1px\"></img>\n",
    "<img src=\"./doc_images/cap_annotatedagenda.png\" width=\"35%\" style=\"margin: 2%\" alt=\"screencap of annotated agenda\" border=\"1px\"></img>"
   ]
  },
  {
   "cell_type": "markdown",
   "id": "a1b29d47-ca87-4471-b0c3-440a3637ed08",
   "metadata": {},
   "source": [
    "## <span id=\"publicrecords\">Supplemental Communications Packets</span>\n",
    "Data Source: Berkeley's <a href=\"https://records.cityofberkeley.info/PublicAccess/paFiles/cqFiles/index.html\">Public Records Online Database</a>\n",
    "\n",
    "Written communications are available for download in the Public Records Online Database.  These take the form of PDF scans of emails that were previously printed and assembled in physical packets.  These supplemental packets commonly contain hundreds of pages and hundreds of constituent comments per meeting.\n",
    "\n",
    "<img src=\"./doc_images/cap_records.png\" width=\"85%\" style=\"margin: 2%\" alt=\"screencap of records search\" border=\"1px\"></img>"
   ]
  },
  {
   "cell_type": "markdown",
   "id": "8a220ab3-2129-4030-aee8-fea4729acdcf",
   "metadata": {},
   "source": [
    "# Data Analysis"
   ]
  },
  {
   "cell_type": "markdown",
   "id": "07fe45f7-d31d-4ca2-9fb7-81fd967465a1",
   "metadata": {},
   "source": [
    "## Parsing the Agenda\n",
    "\n",
    "I first used beautifulsoup to scrape and parse meeting agendas posted online.  Aside from some tricky regex this was not too bad.\n",
    "\n",
    "<img src=\"./doc_images/process_pt1.png\" width=\"85%\" style=\"margin: 2%\" alt=\"\" border=\"1px\"></img>\n",
    "\n",
    "Here’s what the output of that looks like, which I loaded into a dataframe and wrote down to a csv file.\n",
    "\n",
    "<img src=\"./doc_images/process_pt2.png\" width=\"85%\" style=\"margin: 2%\" alt=\"\" border=\"1px\"></img>"
   ]
  },
  {
   "cell_type": "markdown",
   "id": "fe1b3d02-89e0-499a-9f1f-c59d66146f42",
   "metadata": {},
   "source": [
    "## Parsing Written Communications Packets\n",
    "\n",
    "I then parsed Written Communications PDFs to get an index of letter-writers and their associated correspondence IDs.  I tried extracting text with pdfplumber then landed on using an OCR library called pytesseract.\n",
    "\n",
    "I also used pytesseract to parse content, first converting the PDF into images, then converting the images into text.\n",
    "\n",
    "<img src=\"./doc_images/process_pt3.png\" width=\"85%\" style=\"margin: 2%\" alt=\"\" border=\"1px\"></img>\n",
    "\n",
    "I pulled all this together in a dataframe containing the newly extracted text.\n",
    "\n",
    "<img src=\"./doc_images/process_pt4.png\" width=\"85%\" style=\"margin: 2%\" alt=\"\" border=\"1px\"></img>"
   ]
  },
  {
   "cell_type": "markdown",
   "id": "12f28120-71d3-41ee-aeff-5d0dd3664a3c",
   "metadata": {},
   "source": [
    "## Synthesizing Content of Written Communications Packets\n",
    "\n",
    "Now that I had these documents in a more friendly format, my next step was to figure out how to efficiently analyze their contents.  I tried using several <a href=\"https://spacy.io\">natural</a> <a href=\"https://www.nltk.org/\">language</a> <a href=\"https://scikit-learn.org/stable/\">processing</a> libraries.  After a couple days fumbling through NLP docs and <a href=\"https://investigate.ai/text-analysis/introduction-to-topic-modeling/\">investigate.ai's text analysis guides</a>, I eventually consulted Soma, who suggested using ChatGPT.  Soma also helped outline a possible approach.\n",
    "\n",
    "I then went about designing prompts using the ChatGPT interface online.  This is a screenshot of one of the first among many prompts I tested.\n",
    "\n",
    "<img src=\"./doc_images/process_pt5.png\" width=\"85%\" style=\"margin: 2%\" alt=\"\" border=\"1px\"></img>\n",
    "\n",
    "This is the prompt I moved forward with:\n",
    "\n",
    "\"For this single email, provide a one-sentence summary and categorize their position (support, oppose, other) on the provided recommendations.\"\n",
    "\n",
    "I also specified the input and output format.\n",
    "\n",
    "I fed that prompt to the ChatOpenAI API, then parsed and stored the results in a dataframe and eventually a csv.\n",
    "<img src=\"./doc_images/process_pt6.png\" width=\"85%\" style=\"margin: 2%\" alt=\"\" border=\"1px\"></img>\n",
    "\n",
    "I then aggregated the likely positions of those who submitted letters to the council and grouped them by agenda item number.\n",
    "\n",
    "The final outputs of this process were CSVs and dataframes containing:\n",
    "\n",
    "* raw text extracted from written communications packets\n",
    "* one-sentence summaries of the text in relation to policy recommendations\n",
    "* predicted constituent sentiments (support, oppose, other)\n",
    "* aggregated positions by agenda item\n",
    "\n",
    "<img src=\"./doc_images/process_pt7.png\" width=\"85%\" style=\"margin: 2%\" alt=\"\" border=\"1px\"></img>"
   ]
  },
  {
   "cell_type": "markdown",
   "id": "15301ddd-efa9-48f6-89e2-a7839b2aaabb",
   "metadata": {},
   "source": [
    "# Exceptions"
   ]
  },
  {
   "cell_type": "markdown",
   "id": "cd26dcc2-3c6a-44e5-9dbe-0f2f4981ae7d",
   "metadata": {},
   "source": [
    "I was excited to have something that seemed to work.  I skimmed through packets and manually spot-checked results, reviewing communications alongside AI-generated summaries and dispositions.\n",
    "\n",
    "Everything seemed great and then... a petition appeared!  A 25-page document of signatures in support of an agenda item on daylighting Strawberry Creek.\n",
    "\n",
    "<img src=\"./doc_images/cap_petitions.png\" alt=\"screencap of petitions page\" width=\"50%\" border=\"1px\"></img>\n",
    "\n",
    "It was an anomaly embedded deep in the third supplemental communications packet, beginning on page 94 of 131.  Communications ID #192 with email subject: \"Strawberry Creek Paper Petition Responses 1-247.pdf\".  This petition was submitted as an attachment to an emailed letter.\n",
    "\n",
    "<img src=\"./doc_images/cap_petitions_pt2.png\" alt=\"screencap of petitions email\" width=\"50%\" border=\"1px\"></img>\n",
    "\n",
    "While this system clearly identified that ID #192 expresses support for this agenda item, it erroneously distilled a letter and all its attachments into a single tally for its corresponding agenda item.\n",
    "\n",
    "Upon closer examination I discovered there were several (!!) petitions in this packet, so this was not an isolated issue and would need to be addressed."
   ]
  },
  {
   "cell_type": "markdown",
   "id": "bf0ca455-c4d5-4ad7-9c55-51b7290649ae",
   "metadata": {},
   "source": [
    "# Remaining Work"
   ]
  },
  {
   "cell_type": "markdown",
   "id": "39b7845d-29e8-4018-88d3-1166b4f7340c",
   "metadata": {},
   "source": [
    "## Blocking Issues\n",
    "This project is not yet ready for release.  Here are identified blocking issues:\n",
    "\n",
    "* Flags needed for appended file attachments\n",
    "* Unexpected data formats like signature petitions\n",
    "\n",
    "## Validation\n",
    "I've spot-checked the first test-batch of results and found no issues beyond the ones specified above.  That said, much more testing is needed, outlined further below.\n",
    "\n",
    "* Test with data from more meetings\n",
    "* Hand-tag more data to compare generated results against a ground truth\n",
    "* Benchmark against a few other approaches for position predictions, eg bag of words, using a simple regex pattern, and using smaller language models\n",
    "\n",
    "## Automation\n",
    "This project would be a lot more usable if these parts could be automated:\n",
    "\n",
    "* Pulling down raw documents, ie agendas, written communications\n",
    "* Parsing and sharing results\n",
    "\n",
    "## And then...\n",
    "After everything above is addressed, I hope to:\n",
    "\n",
    "* Use it to write a story :)\n",
    "* Share it with people!\n",
    "* Generalize and adapt for other municipalities\n",
    "* Also analyze audio data from recordings"
   ]
  },
  {
   "cell_type": "markdown",
   "id": "745803a0-92b5-4aca-8771-e763307cd1c2",
   "metadata": {},
   "source": [
    "# Misc Notes"
   ]
  },
  {
   "cell_type": "markdown",
   "id": "3f635798-cc54-415a-8b36-697720ef9a34",
   "metadata": {},
   "source": [
    "## On Intentions\n",
    "\n",
    "This project is *not* meant to be a replacement for actually reading the letters in their entirety.  There is still considerable value in reviewing the letters themselves.  It merely seeks to augment the letters, to help both the public and council members get a broader perspective of each comment in context."
   ]
  },
  {
   "cell_type": "markdown",
   "id": "1d5324ed-63c7-4791-98b0-8031314e0a86",
   "metadata": {},
   "source": [
    "## On Data Sources\n",
    "\n",
    "Since all original documents are part of the public record I left identifiable text as is.  But please <a href = \"mailto: jellomoat@gmail.com\">contact me</a> if you see your name/email address in an image and would like your info scrubbed out.\n",
    "\n",
    "Also <a href=\"https://www.jellomoat.com/contact\">please reach out</a> if you have questions, would like to chat about the project, or just want to say hello :)"
   ]
  },
  {
   "cell_type": "markdown",
   "id": "2d8e7e39-d786-4270-9fae-f1fd07c51b66",
   "metadata": {},
   "source": [
    "# Project Metadata"
   ]
  },
  {
   "cell_type": "markdown",
   "id": "8b51df11-76af-48b7-9441-b251a801b220",
   "metadata": {},
   "source": [
    "This was initially created as my fourth and final project in the <a href=\"https://ledeprogram.com/\">Lede Program</a>.  Many thanks to these kind folks who helped shape the project: <a href=\"https://github.com/jsoma\">Soma</a>, <a href=\"https://github.com/yinleon\">Leon</a>, and <a href=\"https://github.com/whdc\">Will</a> ✨\n",
    "\n",
    "This site was adapted from a presentation given on August 11, 2023.  I probably will replace this with a proper docs page if this ever gets off the ground enough for distro.\n",
    "\n",
    "Slides here => <a href=\"https://bit.ly/pubcomm-public\">https://bit.ly/pubcomm-public</a>\n",
    "\n",
    "Repo with code and raw docs here => [https://github.com/jellomoat/pubcomm](https://github.com/jellomoat/pubcomm)\n",
    "\n",
    "(Lastly, \"pubcomm\" is just a working name - please lmk if you can think of something better!)"
   ]
  },
  {
   "cell_type": "code",
   "execution_count": null,
   "id": "8d131a49-6413-420d-bcc2-381487873585",
   "metadata": {},
   "outputs": [],
   "source": []
  }
 ],
 "metadata": {
  "kernelspec": {
   "display_name": "Python 3 (ipykernel)",
   "language": "python",
   "name": "python3"
  },
  "language_info": {
   "codemirror_mode": {
    "name": "ipython",
    "version": 3
   },
   "file_extension": ".py",
   "mimetype": "text/x-python",
   "name": "python",
   "nbconvert_exporter": "python",
   "pygments_lexer": "ipython3",
   "version": "3.10.11"
  }
 },
 "nbformat": 4,
 "nbformat_minor": 5
}
